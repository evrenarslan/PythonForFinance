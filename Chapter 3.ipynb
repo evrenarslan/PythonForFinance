{
 "cells": [
  {
   "cell_type": "markdown",
   "metadata": {},
   "source": [
    "# Black Scholes Merton "
   ]
  },
  {
   "cell_type": "markdown",
   "metadata": {},
   "source": [
    "## Analytical Black-Scholes-Merton (BSM) Formula"
   ]
  },
  {
   "cell_type": "code",
   "execution_count": 4,
   "metadata": {},
   "outputs": [],
   "source": [
    "# \n",
    "# Valuation of European call options in Black-Scholes-Merton model \n",
    "# incl. Vega function and implied volatility estimation \n",
    "# bsm_functions.py \n",
    "# \n",
    "# Analytical Black-Scholes-Merton (BSM) Formula\n",
    "\n",
    "def bsm_call_value(S0,K,T,r,sigma):\n",
    "    ''' Valuation of European call option in BSM model.\n",
    "    Analytical formula. \n",
    "    Parameters \n",
    "    ==========\n",
    "    S0 : float\n",
    "    initial stock/index level \n",
    "    K : float \n",
    "    strike price \n",
    "    T : float \n",
    "    maturity date (in year fractions) \n",
    "    r : float \n",
    "    constant risk-free short rate \n",
    "    sigma : float \n",
    "    volatility factor in diffusion term \n",
    "    \n",
    "    Returns \n",
    "    ======= \n",
    "    value : float \n",
    "    present value of the European call option \n",
    "    '''\n",
    "    from math import log,sqrt,exp \n",
    "    from scipy import stats \n",
    "    S0=float(S0) \n",
    "    d1=(log(S0/K)+(r+0.5*sigma**2)*T)/(sigma*sqrt(T)) \n",
    "    d2=(log(S0/K)+(r-0.5*sigma**2)*T)/(sigma*sqrt(T)) \n",
    "    value=(S0*stats.norm.cdf(d1,0.0,1.0)\n",
    "           -K*exp(-r*T)*stats.norm.cdf(d2,0.0,1.0)) \n",
    "    # stats.norm.cdf --> cumulative distribution function \n",
    "    # for normal distribution \n",
    "    return value"
   ]
  },
  {
   "cell_type": "markdown",
   "metadata": {},
   "source": [
    "## Vega Function"
   ]
  },
  {
   "cell_type": "code",
   "execution_count": 5,
   "metadata": {},
   "outputs": [],
   "source": [
    "def bsm_vega(S0,K,T,r,sigma):\n",
    "    ''' Vega of European option in BSM model. \n",
    "    Parameters\n",
    "    ========== \n",
    "    S0 : float \n",
    "    initial stock/index level \n",
    "    K : float \n",
    "    strike price \n",
    "    T : float \n",
    "    maturity date (in year fractions) \n",
    "    r : float \n",
    "    constant risk-free short rate \n",
    "    sigma : float \n",
    "    volatility factor in diffusion term \n",
    "    \n",
    "    Returns \n",
    "    ======= \n",
    "    vega : float \n",
    "    partial derivative of BSM formula with respect to sigma, i.e. Vega \n",
    "    '''\n",
    "    from math import log,sqrt \n",
    "    from scipy import stats\n",
    "    \n",
    "    S0=float(S0) \n",
    "    d1=(log(S0/K)+(r+0.5*sigma**2)*T/(sigma*sqrt(T)))\n",
    "    vega=S0*stats.norm.cdf(d1,0.0,1.0)*sqrt(T)\n",
    "    return vega"
   ]
  },
  {
   "cell_type": "code",
   "execution_count": null,
   "metadata": {},
   "outputs": [],
   "source": []
  }
 ],
 "metadata": {
  "kernelspec": {
   "display_name": "Python 3",
   "language": "python",
   "name": "python3"
  },
  "language_info": {
   "codemirror_mode": {
    "name": "ipython",
    "version": 3
   },
   "file_extension": ".py",
   "mimetype": "text/x-python",
   "name": "python",
   "nbconvert_exporter": "python",
   "pygments_lexer": "ipython3",
   "version": "3.8.2"
  }
 },
 "nbformat": 4,
 "nbformat_minor": 4
}
